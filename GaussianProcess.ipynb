{
 "cells": [
  {
   "cell_type": "code",
   "execution_count": 1,
   "metadata": {},
   "outputs": [],
   "source": [
    "import numpy as np\n",
    "import matplotlib.pyplot as plt"
   ]
  },
  {
   "cell_type": "code",
   "execution_count": 2,
   "metadata": {},
   "outputs": [],
   "source": [
    "def RBF(X:np.ndarray,Y:np.ndarray,gamma:float):\n",
    "    \"\"\"\n",
    "    X: np.ndarray, shape: (n_samples, n_features)\n",
    "    Y: np.ndarray, shape: (n_samples, n_features)\n",
    "    gamma: float\n",
    "    \"\"\"\n",
    "    K=np.zeros((X.shape[0],Y.shape[0]))\n",
    "    for i in range(X.shape[0]):\n",
    "        for j in range(Y.shape[0]):\n",
    "            K[i,j]=np.exp(-gamma*(np.dot(X[i]-Y[j],(X[i]-Y[j]).T)))\n",
    "    return K\n",
    "\n",
    "data_x=np.linspace(0,10,100).reshape(-1,1)\n",
    "data_y=np.sin(data_x).reshape(-1,1)\n",
    "indices=np.arange(100)\n",
    "np.random.shuffle(indices)\n",
    "train_x=data_x[indices[:80]]\n",
    "train_y=data_y[indices[:80]]\n",
    "test_x=data_x[indices[80:]]\n",
    "test_y=data_y[indices[80:]]\n",
    "\n",
    "K=RBF(train_x,train_x,5)\n",
    "K12=RBF(train_x,test_x,5)\n",
    "K22=RBF(test_x,test_x,5)\n",
    "K21=K12.T\n",
    "\n",
    "y_result=np.dot(np.dot(K21,np.linalg.inv(K)),train_y)\n",
    "deviation=K22-np.dot(np.dot(K21,np.linalg.inv(K)),K12)\n"
   ]
  },
  {
   "cell_type": "code",
   "execution_count": 3,
   "metadata": {},
   "outputs": [
    {
     "data": {
      "text/plain": [
       "0.03757222948615072"
      ]
     },
     "execution_count": 3,
     "metadata": {},
     "output_type": "execute_result"
    }
   ],
   "source": [
    "np.linalg.norm(y_result-test_y)"
   ]
  }
 ],
 "metadata": {
  "kernelspec": {
   "display_name": "Python 3",
   "language": "python",
   "name": "python3"
  },
  "language_info": {
   "codemirror_mode": {
    "name": "ipython",
    "version": 3
   },
   "file_extension": ".py",
   "mimetype": "text/x-python",
   "name": "python",
   "nbconvert_exporter": "python",
   "pygments_lexer": "ipython3",
   "version": "3.11.3"
  },
  "orig_nbformat": 4
 },
 "nbformat": 4,
 "nbformat_minor": 2
}
