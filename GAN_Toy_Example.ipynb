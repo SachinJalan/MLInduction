{
 "cells": [
  {
   "cell_type": "code",
   "execution_count": 49,
   "metadata": {},
   "outputs": [],
   "source": [
    "#THIS CODE IS WRITTEN BY REFERRING TO THE CODE IN THE FOLLOWING LINK\n",
    "#https://realpython.com/generative-adversarial-networks/ "
   ]
  },
  {
   "cell_type": "code",
   "execution_count": 37,
   "metadata": {},
   "outputs": [],
   "source": [
    "import torch \n",
    "import torch.nn as nn\n",
    "import math \n",
    "import matplotlib.pyplot as plt\n",
    "from tqdm import tqdm\n"
   ]
  },
  {
   "cell_type": "code",
   "execution_count": 38,
   "metadata": {},
   "outputs": [
    {
     "data": {
      "text/plain": [
       "<torch._C.Generator at 0x7f63ebc31070>"
      ]
     },
     "execution_count": 38,
     "metadata": {},
     "output_type": "execute_result"
    }
   ],
   "source": [
    "torch.manual_seed(0)"
   ]
  },
  {
   "cell_type": "code",
   "execution_count": 39,
   "metadata": {},
   "outputs": [],
   "source": [
    "train_data_length = 1024\n",
    "\n",
    "train_data = torch.zeros((train_data_length, 2))\n",
    "\n",
    "train_data[:, 0] = 2 * math.pi * torch.rand(train_data_length)\n",
    "\n",
    "train_data[:, 1] = torch.cos(train_data[:, 0])\n",
    "\n",
    "train_labels = torch.zeros(train_data_length)\n",
    "\n",
    "train_set = [(train_data[i], train_labels[i]) for i in range(train_data_length)]"
   ]
  },
  {
   "cell_type": "code",
   "execution_count": 44,
   "metadata": {},
   "outputs": [],
   "source": [
    "batch_size = 32\n",
    "train_loader = torch.utils.data.DataLoader(\n",
    "    train_set, batch_size=batch_size, shuffle=True\n",
    ")\n"
   ]
  },
  {
   "cell_type": "code",
   "execution_count": 45,
   "metadata": {},
   "outputs": [],
   "source": [
    "class Discriminator(nn.Module):\n",
    "    def __init__(self):\n",
    "        super().__init__()\n",
    "        self.model=nn.Sequential(\n",
    "            nn.Linear(2,256),\n",
    "            nn.ReLU(),\n",
    "            nn.Dropout(0.3),\n",
    "            nn.Linear(256,128),\n",
    "            nn.ReLU(),\n",
    "            nn.Dropout(0.3),\n",
    "            nn.Linear(128,64),\n",
    "            nn.ReLU(),\n",
    "            nn.Dropout(0.3),\n",
    "            nn.Linear(64,1),\n",
    "            nn.Sigmoid(),\n",
    "        )\n",
    "    def forward(self,x):\n",
    "        output=self.model(x)\n",
    "        return output\n",
    "discriminator=Discriminator()"
   ]
  },
  {
   "cell_type": "code",
   "execution_count": 46,
   "metadata": {},
   "outputs": [],
   "source": [
    "class Generator(nn.Module):\n",
    "    def __init__(self):\n",
    "        super().__init__()\n",
    "        self.model=nn.Sequential(\n",
    "            nn.Linear(2,16),\n",
    "            nn.ReLU(),\n",
    "            nn.Linear(16,32),\n",
    "            nn.ReLU(),\n",
    "            nn.Linear(32,2),\n",
    "        )\n",
    "    def forward(self,x):\n",
    "        output=self.model(x)\n",
    "        return output\n",
    "generator=Generator()"
   ]
  },
  {
   "cell_type": "code",
   "execution_count": 47,
   "metadata": {},
   "outputs": [],
   "source": [
    "lr=0.001\n",
    "num_epochs=300\n",
    "loss_function=nn.BCELoss()\n",
    "discriminator_optimizer=torch.optim.Adam(discriminator.parameters(),lr=lr)\n",
    "generator_optimizer=torch.optim.Adam(generator.parameters(),lr=lr)\n"
   ]
  },
  {
   "cell_type": "code",
   "execution_count": 50,
   "metadata": {},
   "outputs": [
    {
     "name": "stderr",
     "output_type": "stream",
     "text": [
      "100%|██████████| 300/300 [00:31<00:00,  9.57it/s]\n"
     ]
    },
    {
     "data": {
      "text/plain": [
       "[<matplotlib.lines.Line2D at 0x7f63d53eaa60>]"
      ]
     },
     "execution_count": 50,
     "metadata": {},
     "output_type": "execute_result"
    },
    {
     "data": {
      "image/png": "[encoded data removed]",
      "text/plain": [
       "<Figure size 640x480 with 1 Axes>"
      ]
     },
     "metadata": {},
     "output_type": "display_data"
    }
   ],
   "source": [
    "for epoch in tqdm(range(num_epochs)):\n",
    "    for n,(real_samples,_) in enumerate(train_loader):\n",
    "        #Data for training the discriminator\n",
    "        real_samples_labels=torch.ones((batch_size,1))\n",
    "        #Data to generate fake samples\n",
    "        latent_space_samples=torch.randn((batch_size,2))\n",
    "        #Generating Fake samples\n",
    "        generated_samples=generator(latent_space_samples)\n",
    "        #setting the labels for fake samples\n",
    "        generated_samples_labels=torch.zeros((batch_size,1))\n",
    "        #Mixing fake samples with real samples to feed into discriminator\n",
    "        all_samples=torch.cat((real_samples,generated_samples))\n",
    "        #Mixing labels\n",
    "        all_samples_labels=torch.cat((real_samples_labels,generated_samples_labels))\n",
    "        #Training the discriminator\n",
    "        discriminator.zero_grad()\n",
    "        output_discriminator=discriminator(all_samples)\n",
    "        #Calculating the loss\n",
    "        loss_discriminator=loss_function(output_discriminator,all_samples_labels)\n",
    "        loss_discriminator.backward()\n",
    "        discriminator_optimizer.step()\n",
    "        #Data for training the generator\n",
    "        latent_space_samples=torch.randn((batch_size,2))\n",
    "        #Generating fake samples\n",
    "        generated_samples=generator(latent_space_samples)\n",
    "        #Setting the labels for fake samples\n",
    "        generated_samples_labels=torch.ones((batch_size,1))\n",
    "        generator.zero_grad()\n",
    "        #Findinf the output of the discriminator for fake samples\n",
    "        output_discriminator_generated=discriminator(generated_samples)\n",
    "        #Calculating the loss by the output of the discriminator\n",
    "        loss_generator=loss_function(output_discriminator_generated,generated_samples_labels)\n",
    "        loss_generator.backward()\n",
    "        generator_optimizer.step()\n",
    "\n",
    "latent_space_samples = torch.randn(100, 2)\n",
    "generated_samples = generator(latent_space_samples)\n",
    "\n",
    "generated_samples = generated_samples.detach()\n",
    "plt.plot(generated_samples[:,0],generated_samples[:,1],\".\")\n"
   ]
  },
  {
   "cell_type": "code",
   "execution_count": null,
   "metadata": {},
   "outputs": [],
   "source": []
  }
 ],
 "metadata": {
  "kernelspec": {
   "display_name": "Python 3",
   "language": "python",
   "name": "python3"
  },
  "language_info": {
   "codemirror_mode": {
    "name": "ipython",
    "version": 3
   },
   "file_extension": ".py",
   "mimetype": "text/x-python",
   "name": "python",
   "nbconvert_exporter": "python",
   "pygments_lexer": "ipython3",
   "version": "3.8.10"
  },
  "orig_nbformat": 4
 },
 "nbformat": 4,
 "nbformat_minor": 2
}
